import zipfile
import pandas as pd
import matplotlib.pyplot as plt
import json
import os

# Extract the TikTok data zip file
zip_path = '/content/TikTok_Data_1741921492.zip'
extraction_path = '/mnt/data/tiktok_data_extracted'

with zipfile.ZipFile(zip_path, 'r') as zip_ref:
    zip_ref.extractall(extraction_path)

# Load JSON data
json_file_path = os.path.join(extraction_path, 'user_data_tiktok.json')

with open(json_file_path, 'r', encoding='utf-8') as f:
    data = json.load(f)

# Extract Direct Messages
messages = data['Direct Message']['Direct Messages']

# Flatten Chat Histories
all_messages = []
for chat in pd.DataFrame(messages)['ChatHistory']:
    all_messages.extend(chat)

# Create DataFrame
messages_df = pd.DataFrame(all_messages)

# Convert Date column to datetime
messages_df['Date'] = pd.to_datetime(messages_df['Date'], errors='coerce')

# Create a YearMonth column
messages_df['YearMonth'] = messages_df['Date'].dt.to_period('M')

# Calculate monthly TikTok sharing activity
monthly_counts = messages_df['YearMonth'].value_counts().sort_index()

# Create a clean DataFrame
monthly_counts_df = monthly_counts.reset_index()
monthly_counts_df.columns = ['YearMonth', 'Number of Shared TikTok Links']

# Convert YearMonth to string for plotting
monthly_counts_df['YearMonth'] = monthly_counts_df['YearMonth'].astype(str)

# Plot the line chart
plt.figure(figsize=(14, 7))
plt.plot(monthly_counts_df['YearMonth'], monthly_counts_df['Number of Shared TikTok Links'], marker='o')
plt.title('Monthly TikTok Link Sharing Activity (2021-2025)')
plt.xlabel('Month')
plt.ylabel('Number of Shared TikTok Links')
plt.xticks(rotation=45)
plt.grid(True)
plt.tight_layout()
plt.show()

# --- Yearly Mean and Standard Deviation Calculation ---

# Extract Year and Month from the Date
messages_df['Year'] = messages_df['Date'].dt.year
messages_df['Month'] = messages_df['Date'].dt.month

# Group by Year and Month, then count number of messages
monthly_counts = messages_df.groupby(['Year', 'Month']).size().reset_index(name='Count')

# Group by Year to calculate Monthly Mean and Standard Deviation
yearly_stats = monthly_counts.groupby('Year')['Count'].agg(['mean', 'std']).reset_index()

# Rename columns for clarity
yearly_stats.rename(columns={'mean': 'Monthly Mean', 'std': 'Monthly Std Dev'}, inplace=True)

# Display the result
yearly_stats
