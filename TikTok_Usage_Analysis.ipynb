{
 "cells": [
  {
   "cell_type": "markdown",
   "id": "366d89e3",
   "metadata": {},
   "source": [
    "# TikTok Usage Analysis: 2021-2025"
   ]
  },
  {
   "cell_type": "markdown",
   "id": "dba2ac77",
   "metadata": {},
   "source": [
    "## 1. Data Loading"
   ]
  },
  {
   "cell_type": "code",
   "execution_count": null,
   "id": "8d022a57",
   "metadata": {},
   "outputs": [],
   "source": [
    "\n",
    "import zipfile\n",
    "import pandas as pd\n",
    "import matplotlib.pyplot as plt\n",
    "import json\n",
    "import os\n",
    "\n",
    "# Extract the TikTok data zip file\n",
    "zip_path = '/mnt/data/TikTok_Data_1741921492.zip'\n",
    "extraction_path = '/mnt/data/tiktok_data_extracted'\n",
    "\n",
    "with zipfile.ZipFile(zip_path, 'r') as zip_ref:\n",
    "    zip_ref.extractall(extraction_path)\n",
    "\n",
    "# Load JSON data\n",
    "json_file_path = os.path.join(extraction_path, 'user_data_tiktok.json')\n",
    "\n",
    "with open(json_file_path, 'r', encoding='utf-8') as f:\n",
    "    data = json.load(f)\n",
    "\n",
    "# Extract Direct Messages\n",
    "messages = data['Direct Message']['Direct Messages']\n",
    "\n",
    "# Flatten Chat Histories\n",
    "all_messages = []\n",
    "for chat in pd.DataFrame(messages)['ChatHistory']:\n",
    "    all_messages.extend(chat)\n",
    "\n",
    "# Create DataFrame\n",
    "messages_df = pd.DataFrame(all_messages)\n",
    "\n",
    "# Convert Date column to datetime\n",
    "messages_df['Date'] = pd.to_datetime(messages_df['Date'], errors='coerce')\n"
   ]
  },
  {
   "cell_type": "markdown",
   "id": "a8ee9578",
   "metadata": {},
   "source": [
    "## 2. Data Preparation"
   ]
  },
  {
   "cell_type": "code",
   "execution_count": null,
   "id": "1f7a4166",
   "metadata": {},
   "outputs": [],
   "source": [
    "\n",
    "# Create a YearMonth column\n",
    "messages_df['YearMonth'] = messages_df['Date'].dt.to_period('M')\n",
    "\n",
    "# Calculate monthly TikTok sharing activity\n",
    "monthly_counts = messages_df['YearMonth'].value_counts().sort_index()\n",
    "\n",
    "# Create a clean DataFrame\n",
    "monthly_counts_df = monthly_counts.reset_index()\n",
    "monthly_counts_df.columns = ['YearMonth', 'Number of Shared TikTok Links']\n",
    "\n",
    "# Convert YearMonth to string for plotting\n",
    "monthly_counts_df['YearMonth'] = monthly_counts_df['YearMonth'].astype(str)\n"
   ]
  },
  {
   "cell_type": "markdown",
   "id": "5c38a547",
   "metadata": {},
   "source": [
    "## 3. Data Visualization"
   ]
  },
  {
   "cell_type": "code",
   "execution_count": null,
   "id": "be920691",
   "metadata": {},
   "outputs": [],
   "source": [
    "\n",
    "# Plot the line chart\n",
    "plt.figure(figsize=(14, 7))\n",
    "plt.plot(monthly_counts_df['YearMonth'], monthly_counts_df['Number of Shared TikTok Links'], marker='o')\n",
    "plt.title('Monthly TikTok Link Sharing Activity (2021-2025)')\n",
    "plt.xlabel('Month')\n",
    "plt.ylabel('Number of Shared TikTok Links')\n",
    "plt.xticks(rotation=45)\n",
    "plt.grid(True)\n",
    "plt.tight_layout()\n",
    "plt.show()\n"
   ]
  },
  {
   "cell_type": "markdown",
   "id": "4e9f30b0",
   "metadata": {},
   "source": [
    "## 4. Interpretation"
   ]
  },
  {
   "cell_type": "markdown",
   "id": "4bbe9ff4",
   "metadata": {},
   "source": [
    "\n",
    "**Interpretation:**  \n",
    "Initially, this project aimed to analyze TikTok usage during final exam periods.  \n",
    "However, throughout the project, a deeper personal realization surfaced.  \n",
    "Over time, I started feeling less connected to social media platforms like TikTok.  \n",
    "I observed that people around me — friends, classmates — seemed to consume the same types of content, visit the same places, wear similar clothes, and listen to the same music.  \n",
    "This homogenization led me to consciously reduce my social media usage.  \n",
    "Through this project, I was able to validate that my TikTok activity indeed declined significantly over the past years, reflecting a personal decision to distance myself from social media trends.  \n",
    "This decline is visible in the activity graph and supports my intention to create a more individualized lifestyle away from social conformity.\n"
   ]
  }
 ],
 "metadata": {},
 "nbformat": 4,
 "nbformat_minor": 5
}
