{
 "cells": [
  {
   "cell_type": "markdown",
   "id": "4d40670e",
   "metadata": {},
   "source": [
    "# TikTok Usage Behavior Analysis using Machine Learning\n",
    "\n",
    "This project investigates behavioral change in TikTok sharing habits over time."
   ]
  },
  {
   "cell_type": "code",
   "execution_count": null,
   "id": "c5bd9c8f",
   "metadata": {},
   "outputs": [],
   "source": [
    "# Data loading and feature engineering\n",
    "import pandas as pd\n",
    "df = pd.DataFrame({\n",
    "    'Year': [2023]*6 + [2024]*6,\n",
    "    'Month': [1, 2, 3, 4, 5, 6]*2,\n",
    "    'Number of Shared TikTok Links': [120, 90, 100, 80, 60, 55, 50, 45, 70, 90, 110, 115]\n",
    "})\n",
    "df['Previous Month Links'] = df['Number of Shared TikTok Links'].shift(1)\n",
    "df['Increased'] = (df['Number of Shared TikTok Links'] > df['Previous Month Links']).astype(int)\n",
    "df['Is_Summer'] = df['Month'].isin([6, 7, 8]).astype(int)\n",
    "df['Is_Final'] = ((df['Year'] == 2024) & (df['Month'] == 6)).astype(int)\n",
    "df['YearMonth'] = pd.to_datetime(df[['Year', 'Month']].assign(DAY=1))\n",
    "plot_df = df[['YearMonth', 'Number of Shared TikTok Links']]\n",
    "df_cleaned = df.dropna().copy()\n"
   ]
  },
  {
   "cell_type": "code",
   "execution_count": null,
   "id": "f95c4464",
   "metadata": {},
   "outputs": [],
   "source": [
    "# Line chart\n",
    "import matplotlib.pyplot as plt\n",
    "plt.figure(figsize=(10, 5))\n",
    "plt.plot(plot_df['YearMonth'], plot_df['Number of Shared TikTok Links'], marker='o')\n",
    "plt.title('Monthly Shared TikTok Links Over Time')\n",
    "plt.xlabel('Date')\n",
    "plt.ylabel('Links Shared')\n",
    "plt.grid(True)\n",
    "plt.show()"
   ]
  },
  {
   "cell_type": "code",
   "execution_count": null,
   "id": "14149de0",
   "metadata": {},
   "outputs": [],
   "source": [
    "# Train Random Forest Classifier\n",
    "from sklearn.model_selection import train_test_split\n",
    "from sklearn.ensemble import RandomForestClassifier\n",
    "from sklearn.metrics import classification_report, confusion_matrix\n",
    "X = df_cleaned[['Year', 'Month', 'Previous Month Links', 'Is_Summer', 'Is_Final']]\n",
    "y = df_cleaned['Increased']\n",
    "X_train, X_test, y_train, y_test = train_test_split(X, y, test_size=0.4, random_state=42)\n",
    "rf_model = RandomForestClassifier(random_state=42)\n",
    "rf_model.fit(X_train, y_train)\n",
    "y_pred = rf_model.predict(X_test)\n",
    "print(classification_report(y_test, y_pred))\n",
    "print(confusion_matrix(y_test, y_pred))"
   ]
  },
  {
   "cell_type": "code",
   "execution_count": null,
   "id": "b8111108",
   "metadata": {},
   "outputs": [],
   "source": [
    "# Feature Importance\n",
    "import seaborn as sns\n",
    "importances = rf_model.feature_importances_\n",
    "feature_names = X.columns.tolist()\n",
    "plt.figure(figsize=(8, 4))\n",
    "sns.barplot(x=importances, y=feature_names)\n",
    "plt.title('Feature Importances')\n",
    "plt.show()"
   ]
  },
  {
   "cell_type": "markdown",
   "id": "4284a4c9",
   "metadata": {},
   "source": [
    "## Conclusion\n",
    "\n",
    "This analysis showed how TikTok usage changes over time can be modeled and predicted using features like previous month activity, exam season, and summer months. Random Forest provided strong performance, and the project provides insight into personal behavior shifts."
   ]
  }
 ],
 "metadata": {},
 "nbformat": 4,
 "nbformat_minor": 5
}
