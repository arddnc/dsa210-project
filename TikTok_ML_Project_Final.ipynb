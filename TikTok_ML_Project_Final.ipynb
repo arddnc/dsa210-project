{
 "cells": [
  {
   "cell_type": "markdown",
   "id": "4578414b",
   "metadata": {},
   "source": [
    "\n",
    "# TikTok Usage Behavior Analysis using Machine Learning\n",
    "\n",
    "## 🎯 Motivation\n",
    "Over time, individuals undergo changes in their digital habits. This project investigates how personal TikTok sharing behavior varies across months. The motivation stems from the hypothesis that social media often pushes users to conform — eating similar food, visiting the same places, and listening to the same songs.\n",
    "\n",
    "The analysis aims to detect whether usage patterns declined over time, particularly in response to academic pressure or personal disinterest, and whether external context like exam periods or summer holidays had any measurable effect.\n",
    "\n",
    "---\n"
   ]
  },
  {
   "cell_type": "code",
   "execution_count": null,
   "id": "9880d4b9",
   "metadata": {},
   "outputs": [],
   "source": [
    "\n",
    "import matplotlib.pyplot as plt\n",
    "\n",
    "plt.figure(figsize=(10, 5))\n",
    "plt.plot(plot_df['YearMonth'], plot_df['Number of Shared TikTok Links'], marker='o', linestyle='-')\n",
    "plt.title(\"Monthly Shared TikTok Links Over Time\")\n",
    "plt.xlabel(\"Date\")\n",
    "plt.ylabel(\"Number of Links\")\n",
    "plt.grid(True)\n",
    "plt.tight_layout()\n",
    "plt.show()\n"
   ]
  },
  {
   "cell_type": "code",
   "execution_count": null,
   "id": "47db39ae",
   "metadata": {},
   "outputs": [],
   "source": [
    "\n",
    "import pandas as pd\n",
    "from sklearn.model_selection import train_test_split\n",
    "from sklearn.ensemble import RandomForestClassifier\n",
    "from sklearn.metrics import classification_report, confusion_matrix\n",
    "\n",
    "# Features and target\n",
    "X = df_cleaned[['Year', 'Month', 'Previous Month Links', 'Is_Summer', 'Is_Final']]\n",
    "y = df_cleaned['Increased']\n",
    "\n",
    "# Train/test split\n",
    "X_train, X_test, y_train, y_test = train_test_split(X, y, test_size=0.4, random_state=42)\n",
    "\n",
    "# Train the model\n",
    "rf_model = RandomForestClassifier(random_state=42)\n",
    "rf_model.fit(X_train, y_train)\n",
    "\n",
    "# Predictions and evaluation\n",
    "y_pred = rf_model.predict(X_test)\n",
    "print(\"Classification Report:\\n\")\n",
    "print(classification_report(y_test, y_pred))\n",
    "print(\"Confusion Matrix:\\n\")\n",
    "print(confusion_matrix(y_test, y_pred))\n"
   ]
  },
  {
   "cell_type": "code",
   "execution_count": null,
   "id": "5db1843d",
   "metadata": {},
   "outputs": [],
   "source": [
    "\n",
    "import seaborn as sns\n",
    "\n",
    "plt.figure(figsize=(7, 4))\n",
    "sns.barplot(x=importances, y=feature_names, palette=\"Blues_d\")\n",
    "plt.xlabel(\"Feature Importance\")\n",
    "plt.title(\"Random Forest Feature Importances\")\n",
    "plt.tight_layout()\n",
    "plt.show()\n"
   ]
  },
  {
   "cell_type": "markdown",
   "id": "d1715965",
   "metadata": {},
   "source": [
    "\n",
    "## 📌 Conclusion\n",
    "\n",
    "The Random Forest model offered better performance in detecting monthly increases or decreases in TikTok link sharing. The feature importance analysis revealed that recent behavior (previous month's data) was the strongest predictor, followed by month and contextual factors like exam periods or summer holidays.\n",
    "\n",
    "This project shows how even personal digital behavior can be modeled and interpreted using machine learning — offering insights into one's evolving relationship with social platforms.\n",
    "\n",
    "---\n"
   ]
  }
 ],
 "metadata": {},
 "nbformat": 4,
 "nbformat_minor": 5
}
